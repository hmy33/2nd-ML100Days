{
 "cells": [
  {
   "cell_type": "markdown",
   "metadata": {},
   "source": [
    "## Work\n",
    "1. 試改變 monitor \"Validation Accuracy\" 並比較結果\n",
    "2. 調整 earlystop 的等待次數至 10, 25 並比較結果"
   ]
  },
  {
   "cell_type": "code",
   "execution_count": 8,
   "metadata": {},
   "outputs": [],
   "source": [
    "import os\n",
    "import keras\n",
    "import matplotlib.pyplot as plt\n",
    "%matplotlib inline\n",
    "\n",
    "\n",
    "# Disable GPU\n",
    "os.environ[\"CUDA_VISIBLE_DEVICES\"] = \"0\""
   ]
  },
  {
   "cell_type": "code",
   "execution_count": 15,
   "metadata": {},
   "outputs": [],
   "source": [
    "train, test = keras.datasets.cifar10.load_data()"
   ]
  },
  {
   "cell_type": "code",
   "execution_count": 16,
   "metadata": {},
   "outputs": [],
   "source": [
    "## 資料前處理\n",
    "def preproc_x(x, flatten=True):\n",
    "    x = x / 255.\n",
    "    if flatten:\n",
    "        x = x.reshape((len(x), -1))\n",
    "    return x\n",
    "\n",
    "def preproc_y(y, num_classes=10):\n",
    "    if y.shape[-1] == 1:\n",
    "        y = keras.utils.to_categorical(y, num_classes)\n",
    "    return y    "
   ]
  },
  {
   "cell_type": "code",
   "execution_count": 17,
   "metadata": {},
   "outputs": [],
   "source": [
    "x_train, y_train = train\n",
    "x_test, y_test = test\n",
    "\n",
    "# Preproc the inputs\n",
    "x_train = preproc_x(x_train)\n",
    "x_test = preproc_x(x_test)\n",
    "\n",
    "# Preprc the outputs\n",
    "y_train = preproc_y(y_train)\n",
    "y_test = preproc_y(y_test)"
   ]
  },
  {
   "cell_type": "code",
   "execution_count": 26,
   "metadata": {},
   "outputs": [],
   "source": [
    "\"\"\"Code Here\n",
    "建立你的神經網路\n",
    "\"\"\"\n",
    "def build_mlp(input_shape, output_units=10, num_neurons=[512, 256, 128]):\n",
    "    input_layer = keras.layers.Input(input_shape)\n",
    "    \n",
    "    for i, n_units in enumerate(num_neurons):\n",
    "        if i == 0:\n",
    "            x = keras.layers.Dense(units=n_units, \n",
    "                                   activation=\"relu\", \n",
    "                                   name=\"hidden_layer\"+str(i+1))(input_layer)\n",
    "        else:\n",
    "            x = keras.layers.Dense(units=n_units, \n",
    "                                   activation=\"relu\", \n",
    "                                   name=\"hidden_layer\"+str(i+1))(x)\n",
    "        x = keras.layers.BatchNormalization()(x)\n",
    "    \n",
    "    out = keras.layers.Dense(units=output_units, activation=\"softmax\", name=\"output\")(x)\n",
    "    \n",
    "    model = keras.models.Model(inputs=[input_layer], outputs=[out])\n",
    "    return model"
   ]
  },
  {
   "cell_type": "code",
   "execution_count": 27,
   "metadata": {},
   "outputs": [],
   "source": [
    "\"\"\"Code Here\n",
    "設定超參數\n",
    "\"\"\"\n",
    "LEARNING_RATE = 1e-3\n",
    "EPOCHS = 50\n",
    "BATCH_SIZE = 1024\n",
    "MOMENTUM = 0.95"
   ]
  },
  {
   "cell_type": "code",
   "execution_count": 28,
   "metadata": {},
   "outputs": [
    {
     "name": "stdout",
     "output_type": "stream",
     "text": [
      "_________________________________________________________________\n",
      "Layer (type)                 Output Shape              Param #   \n",
      "=================================================================\n",
      "input_3 (InputLayer)         (None, 3072)              0         \n",
      "_________________________________________________________________\n",
      "hidden_layer1 (Dense)        (None, 512)               1573376   \n",
      "_________________________________________________________________\n",
      "batch_normalization_1 (Batch (None, 512)               2048      \n",
      "_________________________________________________________________\n",
      "hidden_layer2 (Dense)        (None, 256)               131328    \n",
      "_________________________________________________________________\n",
      "batch_normalization_2 (Batch (None, 256)               1024      \n",
      "_________________________________________________________________\n",
      "hidden_layer3 (Dense)        (None, 128)               32896     \n",
      "_________________________________________________________________\n",
      "batch_normalization_3 (Batch (None, 128)               512       \n",
      "_________________________________________________________________\n",
      "output (Dense)               (None, 10)                1290      \n",
      "=================================================================\n",
      "Total params: 1,742,474\n",
      "Trainable params: 1,740,682\n",
      "Non-trainable params: 1,792\n",
      "_________________________________________________________________\n",
      "Train on 50000 samples, validate on 10000 samples\n",
      "Epoch 1/50\n",
      "50000/50000 [==============================] - 7s 135us/step - loss: 2.2464 - acc: 0.2598 - val_loss: 2.0972 - val_acc: 0.3280\n",
      "Epoch 2/50\n",
      "50000/50000 [==============================] - 5s 104us/step - loss: 1.7492 - acc: 0.3895 - val_loss: 1.8181 - val_acc: 0.3711\n",
      "Epoch 3/50\n",
      "50000/50000 [==============================] - 5s 104us/step - loss: 1.6252 - acc: 0.4328 - val_loss: 1.6987 - val_acc: 0.4034\n",
      "Epoch 4/50\n",
      "50000/50000 [==============================] - 5s 102us/step - loss: 1.5515 - acc: 0.4578 - val_loss: 1.6519 - val_acc: 0.4181\n",
      "Epoch 5/50\n",
      "50000/50000 [==============================] - 5s 108us/step - loss: 1.4968 - acc: 0.4766 - val_loss: 1.6071 - val_acc: 0.4301\n",
      "Epoch 6/50\n",
      "50000/50000 [==============================] - 5s 107us/step - loss: 1.4516 - acc: 0.4935 - val_loss: 1.5881 - val_acc: 0.4401\n",
      "Epoch 7/50\n",
      "50000/50000 [==============================] - 5s 104us/step - loss: 1.4142 - acc: 0.5070 - val_loss: 1.5579 - val_acc: 0.4453\n",
      "Epoch 8/50\n",
      "50000/50000 [==============================] - 5s 103us/step - loss: 1.3789 - acc: 0.5214 - val_loss: 1.5472 - val_acc: 0.4551\n",
      "Epoch 9/50\n",
      "50000/50000 [==============================] - 5s 105us/step - loss: 1.3457 - acc: 0.5308 - val_loss: 1.5349 - val_acc: 0.4489\n",
      "Epoch 10/50\n",
      "50000/50000 [==============================] - 6s 113us/step - loss: 1.3159 - acc: 0.5434 - val_loss: 1.5245 - val_acc: 0.4589\n",
      "Epoch 11/50\n",
      "50000/50000 [==============================] - 5s 108us/step - loss: 1.2854 - acc: 0.5560 - val_loss: 1.5102 - val_acc: 0.4602\n",
      "Epoch 12/50\n",
      "50000/50000 [==============================] - 5s 104us/step - loss: 1.2583 - acc: 0.5655 - val_loss: 1.5029 - val_acc: 0.4666\n",
      "Epoch 13/50\n",
      "50000/50000 [==============================] - 5s 103us/step - loss: 1.2315 - acc: 0.5767 - val_loss: 1.4832 - val_acc: 0.4708\n",
      "Epoch 14/50\n",
      "50000/50000 [==============================] - 5s 103us/step - loss: 1.2069 - acc: 0.5843 - val_loss: 1.4773 - val_acc: 0.4757\n",
      "Epoch 15/50\n",
      "50000/50000 [==============================] - 5s 104us/step - loss: 1.1810 - acc: 0.5960 - val_loss: 1.4862 - val_acc: 0.4740\n",
      "Epoch 16/50\n",
      "50000/50000 [==============================] - 5s 103us/step - loss: 1.1589 - acc: 0.6045 - val_loss: 1.4760 - val_acc: 0.4802\n",
      "Epoch 17/50\n",
      "50000/50000 [==============================] - 5s 102us/step - loss: 1.1338 - acc: 0.6123 - val_loss: 1.4746 - val_acc: 0.4800\n",
      "Epoch 18/50\n",
      "50000/50000 [==============================] - 6s 110us/step - loss: 1.1132 - acc: 0.6205 - val_loss: 1.4684 - val_acc: 0.4803\n",
      "Epoch 19/50\n",
      "50000/50000 [==============================] - 6s 110us/step - loss: 1.0890 - acc: 0.6315 - val_loss: 1.4644 - val_acc: 0.4832\n",
      "Epoch 20/50\n",
      "50000/50000 [==============================] - 6s 111us/step - loss: 1.0655 - acc: 0.6384 - val_loss: 1.4686 - val_acc: 0.4800\n",
      "Epoch 21/50\n",
      "50000/50000 [==============================] - 6s 116us/step - loss: 1.0438 - acc: 0.6473 - val_loss: 1.4656 - val_acc: 0.4847\n",
      "Epoch 22/50\n",
      "50000/50000 [==============================] - 6s 121us/step - loss: 1.0229 - acc: 0.6559 - val_loss: 1.4563 - val_acc: 0.4926\n",
      "Epoch 23/50\n",
      "50000/50000 [==============================] - 6s 118us/step - loss: 1.0026 - acc: 0.6604 - val_loss: 1.4540 - val_acc: 0.4885\n",
      "Epoch 24/50\n",
      "50000/50000 [==============================] - 6s 111us/step - loss: 0.9792 - acc: 0.6709 - val_loss: 1.4470 - val_acc: 0.4944\n",
      "Epoch 25/50\n",
      "50000/50000 [==============================] - 6s 112us/step - loss: 0.9597 - acc: 0.6796 - val_loss: 1.4742 - val_acc: 0.4913\n",
      "Epoch 26/50\n",
      "50000/50000 [==============================] - 5s 106us/step - loss: 0.9387 - acc: 0.6872 - val_loss: 1.4677 - val_acc: 0.4910\n",
      "Epoch 27/50\n",
      "50000/50000 [==============================] - 5s 104us/step - loss: 0.9173 - acc: 0.6951 - val_loss: 1.4709 - val_acc: 0.4917\n",
      "Epoch 28/50\n",
      "50000/50000 [==============================] - 5s 107us/step - loss: 0.8982 - acc: 0.7025 - val_loss: 1.4823 - val_acc: 0.4904\n",
      "Epoch 29/50\n",
      "50000/50000 [==============================] - 5s 106us/step - loss: 0.8768 - acc: 0.7105 - val_loss: 1.4677 - val_acc: 0.4933\n",
      "Epoch 30/50\n",
      "50000/50000 [==============================] - 5s 105us/step - loss: 0.8572 - acc: 0.7186 - val_loss: 1.4828 - val_acc: 0.4907\n",
      "Epoch 31/50\n",
      "50000/50000 [==============================] - 5s 109us/step - loss: 0.8374 - acc: 0.7249 - val_loss: 1.4808 - val_acc: 0.4902\n",
      "Epoch 32/50\n",
      "50000/50000 [==============================] - 6s 112us/step - loss: 0.8180 - acc: 0.7344 - val_loss: 1.4960 - val_acc: 0.4931\n",
      "Epoch 33/50\n",
      "50000/50000 [==============================] - 5s 107us/step - loss: 0.7970 - acc: 0.7406 - val_loss: 1.5466 - val_acc: 0.4888\n",
      "Epoch 34/50\n",
      "50000/50000 [==============================] - 5s 106us/step - loss: 0.7785 - acc: 0.7491 - val_loss: 1.4964 - val_acc: 0.4928\n",
      "Epoch 00034: early stopping\n"
     ]
    }
   ],
   "source": [
    "# 載入 Callbacks\n",
    "\"\"\"Code Here\n",
    "設定 callbacks: Earlystop\n",
    "\"\"\"\n",
    "from keras.callbacks import EarlyStopping\n",
    "earlystop = EarlyStopping(monitor=\"val_acc\", patience=10, verbose=1)\n",
    "\n",
    "results = {}\n",
    "\"\"\"Code Here\n",
    "撰寫你的訓練流程並將結果用 dictionary 紀錄\n",
    "\"\"\"\n",
    "model = build_mlp(input_shape=x_train.shape[1:])\n",
    "model.summary()\n",
    "optimizer = keras.optimizers.SGD(lr=LEARNING_RATE, nesterov=True, momentum=MOMENTUM)\n",
    "model.compile(loss=\"categorical_crossentropy\", metrics=[\"accuracy\"], optimizer=optimizer)\n",
    "\n",
    "model.fit(x_train, y_train, \n",
    "          epochs=EPOCHS, \n",
    "          batch_size=BATCH_SIZE, \n",
    "          validation_data=(x_test, y_test), \n",
    "          shuffle=True, \n",
    "          callbacks=[earlystop])\n",
    "\n",
    "# Collect results\n",
    "train_loss = model.history.history[\"loss\"]\n",
    "valid_loss = model.history.history[\"val_loss\"]\n",
    "train_acc = model.history.history[\"acc\"]\n",
    "valid_acc = model.history.history[\"val_acc\"]"
   ]
  },
  {
   "cell_type": "code",
   "execution_count": 29,
   "metadata": {},
   "outputs": [
    {
     "data": {
      "image/png": "[encoded data removed]",
      "text/plain": [
       "<matplotlib.figure.Figure at 0x4a0127d940>"
      ]
     },
     "metadata": {
      "needs_background": "light"
     },
     "output_type": "display_data"
    },
    {
     "data": {
      "image/png": "[encoded data removed]",
      "text/plain": [
       "<matplotlib.figure.Figure at 0x4a00886d30>"
      ]
     },
     "metadata": {
      "needs_background": "light"
     },
     "output_type": "display_data"
    }
   ],
   "source": [
    "import matplotlib.pyplot as plt\n",
    "%matplotlib inline\n",
    "\"\"\"Code Here\n",
    "將結果繪出\n",
    "\"\"\"\n",
    "plt.plot(range(len(train_loss)), train_loss, label=\"train loss\")\n",
    "plt.plot(range(len(valid_loss)), valid_loss, label=\"valid loss\")\n",
    "plt.legend()\n",
    "plt.title(\"Loss\")\n",
    "plt.show()\n",
    "\n",
    "plt.plot(range(len(train_acc)), train_acc, label=\"train accuracy\")\n",
    "plt.plot(range(len(valid_acc)), valid_acc, label=\"valid accuracy\")\n",
    "plt.legend()\n",
    "plt.title(\"Accuracy\")\n",
    "plt.show()"
   ]
  }
 ],
 "metadata": {
  "kernelspec": {
   "display_name": "Python 3",
   "language": "python",
   "name": "python3"
  },
  "language_info": {
   "codemirror_mode": {
    "name": "ipython",
    "version": 3
   },
   "file_extension": ".py",
   "mimetype": "text/x-python",
   "name": "python",
   "nbconvert_exporter": "python",
   "pygments_lexer": "ipython3",
   "version": "3.6.4"
  }
 },
 "nbformat": 4,
 "nbformat_minor": 2
}
