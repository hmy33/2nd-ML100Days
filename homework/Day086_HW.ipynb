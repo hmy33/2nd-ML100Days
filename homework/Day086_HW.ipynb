{
 "cells": [
  {
   "cell_type": "markdown",
   "metadata": {},
   "source": [
    "## Work\n",
    "1. 試比較 save_best_only 與否的差異\n",
    "2. 請僅存入將 save_weights_only 設定為 True, 並嘗試 reset ipynb 並將模型與權重重新建回並預測 x_test"
   ]
  },
  {
   "cell_type": "code",
   "execution_count": 8,
   "metadata": {},
   "outputs": [],
   "source": [
    "import os\n",
    "import keras\n",
    "\n",
    "# Disable GPU\n",
    "os.environ[\"CUDA_VISIBLE_DEVICES\"] = \"0\""
   ]
  },
  {
   "cell_type": "code",
   "execution_count": 2,
   "metadata": {},
   "outputs": [],
   "source": [
    "train, test = keras.datasets.cifar10.load_data()"
   ]
  },
  {
   "cell_type": "code",
   "execution_count": 3,
   "metadata": {},
   "outputs": [],
   "source": [
    "## 資料前處理\n",
    "def preproc_x(x, flatten=True):\n",
    "    x = x / 255.\n",
    "    if flatten:\n",
    "        x = x.reshape((len(x), -1))\n",
    "    return x\n",
    "\n",
    "def preproc_y(y, num_classes=10):\n",
    "    if y.shape[-1] == 1:\n",
    "        y = keras.utils.to_categorical(y, num_classes)\n",
    "    return y    "
   ]
  },
  {
   "cell_type": "code",
   "execution_count": 4,
   "metadata": {},
   "outputs": [],
   "source": [
    "x_train, y_train = train\n",
    "x_test, y_test = test\n",
    "\n",
    "# Preproc the inputs\n",
    "x_train = preproc_x(x_train)\n",
    "x_test = preproc_x(x_test)\n",
    "\n",
    "# Preprc the outputs\n",
    "y_train = preproc_y(y_train)\n",
    "y_test = preproc_y(y_test)"
   ]
  },
  {
   "cell_type": "code",
   "execution_count": 5,
   "metadata": {},
   "outputs": [],
   "source": [
    "\"\"\"Code Here\n",
    "建立你的神經網路\n",
    "\"\"\"\n",
    "def build_mlp(input_shape, output_units=10, num_neurons=[512, 128]):\n",
    "    input_layer = keras.layers.Input(input_shape)\n",
    "    \n",
    "    for i, n_units in enumerate(num_neurons):\n",
    "        if i == 0:\n",
    "            x = keras.layers.Dense(units=n_units, \n",
    "                                   activation=\"relu\", \n",
    "                                   name=\"hidden_layer\"+str(i+1))(input_layer)\n",
    "        else:\n",
    "            x = keras.layers.Dense(units=n_units, \n",
    "                                   activation=\"relu\", \n",
    "                                   name=\"hidden_layer\"+str(i+1))(x)\n",
    "    \n",
    "    out = keras.layers.Dense(units=output_units, activation=\"softmax\", name=\"output\")(x)\n",
    "    \n",
    "    model = keras.models.Model(inputs=[input_layer], outputs=[out])\n",
    "    return model"
   ]
  },
  {
   "cell_type": "code",
   "execution_count": 9,
   "metadata": {},
   "outputs": [],
   "source": [
    "\"\"\"Code Here\n",
    "設定超參數\n",
    "\"\"\"\n",
    "LEARNING_RATE = 1e-3\n",
    "EPOCHS = 20\n",
    "BATCH_SIZE = 1024\n",
    "MOMENTUM = 0.95"
   ]
  },
  {
   "cell_type": "code",
   "execution_count": 11,
   "metadata": {},
   "outputs": [
    {
     "name": "stdout",
     "output_type": "stream",
     "text": [
      "_________________________________________________________________\n",
      "Layer (type)                 Output Shape              Param #   \n",
      "=================================================================\n",
      "input_3 (InputLayer)         (None, 3072)              0         \n",
      "_________________________________________________________________\n",
      "hidden_layer1 (Dense)        (None, 512)               1573376   \n",
      "_________________________________________________________________\n",
      "hidden_layer2 (Dense)        (None, 128)               65664     \n",
      "_________________________________________________________________\n",
      "output (Dense)               (None, 10)                1290      \n",
      "=================================================================\n",
      "Total params: 1,640,330\n",
      "Trainable params: 1,640,330\n",
      "Non-trainable params: 0\n",
      "_________________________________________________________________\n",
      "Train on 50000 samples, validate on 10000 samples\n",
      "Epoch 1/20\n",
      "50000/50000 [==============================] - 7s 145us/step - loss: 2.2294 - acc: 0.1827 - val_loss: 2.0934 - val_acc: 0.2471\n",
      "Epoch 2/20\n",
      "50000/50000 [==============================] - 6s 118us/step - loss: 2.0163 - acc: 0.2892 - val_loss: 1.9538 - val_acc: 0.3177\n",
      "Epoch 3/20\n",
      "50000/50000 [==============================] - 6s 120us/step - loss: 1.9166 - acc: 0.3319 - val_loss: 1.8851 - val_acc: 0.3380\n",
      "Epoch 4/20\n",
      "50000/50000 [==============================] - 6s 121us/step - loss: 1.8619 - acc: 0.3517 - val_loss: 1.8438 - val_acc: 0.3573\n",
      "Epoch 5/20\n",
      "50000/50000 [==============================] - 6s 118us/step - loss: 1.8267 - acc: 0.3649 - val_loss: 1.8126 - val_acc: 0.3671\n",
      "Epoch 6/20\n",
      "50000/50000 [==============================] - 6s 118us/step - loss: 1.7990 - acc: 0.3750 - val_loss: 1.7895 - val_acc: 0.3783\n",
      "Epoch 7/20\n",
      "50000/50000 [==============================] - 6s 122us/step - loss: 1.7757 - acc: 0.3848 - val_loss: 1.7674 - val_acc: 0.3875\n",
      "Epoch 8/20\n",
      "50000/50000 [==============================] - 6s 118us/step - loss: 1.7555 - acc: 0.3908 - val_loss: 1.7484 - val_acc: 0.3923\n",
      "Epoch 9/20\n",
      "50000/50000 [==============================] - 6s 118us/step - loss: 1.7373 - acc: 0.3972 - val_loss: 1.7322 - val_acc: 0.3989\n",
      "Epoch 10/20\n",
      "50000/50000 [==============================] - 6s 120us/step - loss: 1.7211 - acc: 0.4047 - val_loss: 1.7176 - val_acc: 0.4038\n",
      "Epoch 11/20\n",
      "50000/50000 [==============================] - 6s 119us/step - loss: 1.7070 - acc: 0.4091 - val_loss: 1.7042 - val_acc: 0.4069\n",
      "Epoch 12/20\n",
      "50000/50000 [==============================] - 6s 124us/step - loss: 1.6929 - acc: 0.4145 - val_loss: 1.6909 - val_acc: 0.4149\n",
      "Epoch 13/20\n",
      "50000/50000 [==============================] - 6s 118us/step - loss: 1.6798 - acc: 0.4190 - val_loss: 1.6792 - val_acc: 0.4162\n",
      "Epoch 14/20\n",
      "50000/50000 [==============================] - 6s 118us/step - loss: 1.6676 - acc: 0.4234 - val_loss: 1.6682 - val_acc: 0.4154\n",
      "Epoch 15/20\n",
      "50000/50000 [==============================] - 6s 118us/step - loss: 1.6564 - acc: 0.4267 - val_loss: 1.6567 - val_acc: 0.4215\n",
      "Epoch 16/20\n",
      "50000/50000 [==============================] - 6s 118us/step - loss: 1.6442 - acc: 0.4300 - val_loss: 1.6480 - val_acc: 0.4260\n",
      "Epoch 17/20\n",
      "50000/50000 [==============================] - 6s 118us/step - loss: 1.6347 - acc: 0.4341 - val_loss: 1.6373 - val_acc: 0.4238\n",
      "Epoch 18/20\n",
      "50000/50000 [==============================] - 6s 119us/step - loss: 1.6239 - acc: 0.4388 - val_loss: 1.6283 - val_acc: 0.4281\n",
      "Epoch 19/20\n",
      "50000/50000 [==============================] - 6s 119us/step - loss: 1.6143 - acc: 0.4419 - val_loss: 1.6199 - val_acc: 0.4345\n",
      "Epoch 20/20\n",
      "50000/50000 [==============================] - 6s 120us/step - loss: 1.6048 - acc: 0.4456 - val_loss: 1.6111 - val_acc: 0.4332\n"
     ]
    }
   ],
   "source": [
    "# 載入 Callbacks\n",
    "\"\"\"Code Here\n",
    "設定 callbacks: model checkpoint\n",
    "\"\"\"\n",
    "from keras.callbacks import ModelCheckpoint\n",
    "\n",
    "model_ckpt = ModelCheckpoint(filepath=\"./tmp.h5\", monitor=\"val_loss\", save_best_only=True, save_weights_only=True)\n",
    "\n",
    "results = {}\n",
    "\"\"\"Code Here\n",
    "撰寫你的訓練流程並將結果用 dictionary 紀錄\n",
    "\"\"\"\n",
    "model = build_mlp(input_shape=x_train.shape[1:])\n",
    "model.summary()\n",
    "optimizer = keras.optimizers.SGD(lr=LEARNING_RATE, nesterov=True, momentum=MOMENTUM)\n",
    "model.compile(loss=\"categorical_crossentropy\", metrics=[\"accuracy\"], optimizer=optimizer)\n",
    "\n",
    "model.fit(x_train, y_train, \n",
    "          epochs=EPOCHS, \n",
    "          batch_size=BATCH_SIZE, \n",
    "          validation_data=(x_test, y_test), \n",
    "          shuffle=True,\n",
    "          callbacks=[model_ckpt]\n",
    "         )\n",
    "\n",
    "# Collect results\n",
    "train_loss = model.history.history[\"loss\"]\n",
    "valid_loss = model.history.history[\"val_loss\"]\n",
    "train_acc = model.history.history[\"acc\"]\n",
    "valid_acc = model.history.history[\"val_acc\"]\n"
   ]
  },
  {
   "cell_type": "code",
   "execution_count": 16,
   "metadata": {
    "scrolled": true
   },
   "outputs": [
    {
     "name": "stdout",
     "output_type": "stream",
     "text": [
      "10000/10000 [==============================] - 4s 355us/step\n"
     ]
    },
    {
     "data": {
      "image/png": "[encoded data removed]",
      "text/plain": [
       "<matplotlib.figure.Figure at 0xd8538328d0>"
      ]
     },
     "metadata": {
      "needs_background": "light"
     },
     "output_type": "display_data"
    },
    {
     "data": {
      "image/png": "[encoded data removed]",
      "text/plain": [
       "<matplotlib.figure.Figure at 0xd8538fa208>"
      ]
     },
     "metadata": {
      "needs_background": "light"
     },
     "output_type": "display_data"
    }
   ],
   "source": [
    "import matplotlib.pyplot as plt\n",
    "%matplotlib inline\n",
    "\"\"\"Code Here\n",
    "將結果繪出\n",
    "\"\"\"\n",
    "# Load back\n",
    "model = build_mlp(input_shape=x_train.shape[1:])\n",
    "model.load_weights(\"./tmp.h5\")\n",
    "model.compile(loss=\"categorical_crossentropy\", metrics=[\"accuracy\"], optimizer=optimizer)\n",
    "loss_loadback, acc_loadback = model.evaluate(x_test, y_test)\n",
    "\n",
    "plt.plot(range(len(train_loss)), train_loss, label=\"train loss\")\n",
    "plt.plot(range(len(valid_loss)), valid_loss, label=\"valid loss\")\n",
    "plt.hlines(y=loss_loadback, xmin=0, xmax=len(train_loss), colors='r', linestyles='--')\n",
    "plt.legend()\n",
    "plt.title(\"Loss\")\n",
    "plt.show()\n",
    "\n",
    "plt.plot(range(len(train_acc)), train_acc, label=\"train accuracy\")\n",
    "plt.plot(range(len(valid_acc)), valid_acc, label=\"valid accuracy\")\n",
    "plt.hlines(y=acc_loadback, xmin=0, xmax=len(train_loss), colors='r', linestyles='--')\n",
    "plt.legend()\n",
    "plt.title(\"Accuracy\")\n",
    "plt.show()"
   ]
  },
  {
   "cell_type": "code",
   "execution_count": null,
   "metadata": {},
   "outputs": [],
   "source": []
  }
 ],
 "metadata": {
  "kernelspec": {
   "display_name": "Python 3",
   "language": "python",
   "name": "python3"
  },
  "language_info": {
   "codemirror_mode": {
    "name": "ipython",
    "version": 3
   },
   "file_extension": ".py",
   "mimetype": "text/x-python",
   "name": "python",
   "nbconvert_exporter": "python",
   "pygments_lexer": "ipython3",
   "version": "3.6.4"
  }
 },
 "nbformat": 4,
 "nbformat_minor": 2
}
