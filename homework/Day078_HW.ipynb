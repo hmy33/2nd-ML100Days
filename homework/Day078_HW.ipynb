{
 "cells": [
  {
   "cell_type": "markdown",
   "metadata": {},
   "source": [
    "## Work\n",
    "1. 請嘗試將 preproc_x 替換成以每筆資料的 min/max 進行標準化至 -1 ~ 1 間，再進行訓練\n",
    "2. 請嘗試將 mlp 疊更深 (e.g 5~10 層)，進行訓練後觀察 learning curve 的走勢\n",
    "3. (optional) 請改用 GPU 進行訓練 (如果你有 GPU 的話)，比較使用 CPU 與 GPU 的訓練速度"
   ]
  },
  {
   "cell_type": "code",
   "execution_count": 1,
   "metadata": {},
   "outputs": [],
   "source": [
    "## \n",
    "\"\"\"\n",
    "Your code here (optional)\n",
    "確認硬體資源\n",
    "\"\"\"\n"
   ]
  },
  {
   "cell_type": "code",
   "execution_count": 2,
   "metadata": {},
   "outputs": [],
   "source": [
    "import os\n",
    "import keras\n",
    "\n",
    "# 請嘗試設定 GPU：os.environ\n",
    "os.environ[\"CUDA_VISIBLE_DEVICES\"] = \"0\""
   ]
  },
  {
   "cell_type": "code",
   "execution_count": 3,
   "metadata": {},
   "outputs": [],
   "source": [
    "train, test = keras.datasets.cifar10.load_data()"
   ]
  },
  {
   "cell_type": "code",
   "execution_count": 4,
   "metadata": {},
   "outputs": [],
   "source": [
    "## 資料前處理\n",
    "\"\"\"\n",
    "Your code here\n",
    "\"\"\"\n",
    "def preproc_x(x, flatten=True):\n",
    "    x_min = x.min()\n",
    "    x_max = x.max()\n",
    "    x = (x - x_min) / (x_max - x_min)\n",
    "    if flatten:\n",
    "        x = x.reshape((len(x), -1))\n",
    "    return x\n",
    "\n",
    "def preproc_y(y, num_classes=10):\n",
    "    if y.shape[-1] == 1:\n",
    "        y = keras.utils.to_categorical(y, num_classes)\n",
    "    return y"
   ]
  },
  {
   "cell_type": "code",
   "execution_count": 5,
   "metadata": {},
   "outputs": [],
   "source": [
    "x_train, y_train = train\n",
    "x_test, y_test = test\n",
    "\n",
    "# Preproc the inputs\n",
    "x_train = preproc_x(x_train)\n",
    "x_test = preproc_x(x_test)\n",
    "\n",
    "# Preprc the outputs\n",
    "y_train = preproc_y(y_train)\n",
    "y_test = preproc_y(y_test)"
   ]
  },
  {
   "cell_type": "code",
   "execution_count": 6,
   "metadata": {},
   "outputs": [
    {
     "name": "stderr",
     "output_type": "stream",
     "text": [
      "WARNING: Logging before flag parsing goes to stderr.\n",
      "W0716 19:19:17.103812  2440 deprecation_wrapper.py:119] From c:\\users\\user\\anaconda3\\lib\\site-packages\\keras\\backend\\tensorflow_backend.py:74: The name tf.get_default_graph is deprecated. Please use tf.compat.v1.get_default_graph instead.\n",
      "\n",
      "W0716 19:19:17.124796  2440 deprecation_wrapper.py:119] From c:\\users\\user\\anaconda3\\lib\\site-packages\\keras\\backend\\tensorflow_backend.py:517: The name tf.placeholder is deprecated. Please use tf.compat.v1.placeholder instead.\n",
      "\n",
      "W0716 19:19:17.128798  2440 deprecation_wrapper.py:119] From c:\\users\\user\\anaconda3\\lib\\site-packages\\keras\\backend\\tensorflow_backend.py:4138: The name tf.random_uniform is deprecated. Please use tf.random.uniform instead.\n",
      "\n"
     ]
    },
    {
     "name": "stdout",
     "output_type": "stream",
     "text": [
      "_________________________________________________________________\n",
      "Layer (type)                 Output Shape              Param #   \n",
      "=================================================================\n",
      "input_1 (InputLayer)         (None, 3072)              0         \n",
      "_________________________________________________________________\n",
      "hidden_layer1 (Dense)        (None, 512)               1573376   \n",
      "_________________________________________________________________\n",
      "hidden_layer2 (Dense)        (None, 256)               131328    \n",
      "_________________________________________________________________\n",
      "hidden_layer3 (Dense)        (None, 128)               32896     \n",
      "_________________________________________________________________\n",
      "hidden_layer4 (Dense)        (None, 64)                8256      \n",
      "_________________________________________________________________\n",
      "hidden_layer5 (Dense)        (None, 32)                2080      \n",
      "_________________________________________________________________\n",
      "output (Dense)               (None, 10)                330       \n",
      "=================================================================\n",
      "Total params: 1,748,266\n",
      "Trainable params: 1,748,266\n",
      "Non-trainable params: 0\n",
      "_________________________________________________________________\n"
     ]
    }
   ],
   "source": [
    "\"\"\"Code Here\n",
    "建立你的神經網路\n",
    "\"\"\"\n",
    "def build_mlp(input_shape, output_units=10, num_neurons=[512, 256, 128, 64, 32]):\n",
    "    input_layer = keras.layers.Input(input_shape)\n",
    "    \n",
    "    for i, n_units in enumerate(num_neurons):\n",
    "        if i == 0:\n",
    "            x = keras.layers.Dense(units=n_units, activation=\"relu\", name=\"hidden_layer\"+str(i+1))(input_layer)\n",
    "        else:\n",
    "            x = keras.layers.Dense(units=n_units, activation=\"relu\", name=\"hidden_layer\"+str(i+1))(x)\n",
    "    \n",
    "    out = keras.layers.Dense(units=output_units, activation=\"softmax\", name=\"output\")(x)\n",
    "    \n",
    "    model = keras.models.Model(inputs=[input_layer], outputs=[out])\n",
    "    return model\n",
    "\n",
    "model = build_mlp(input_shape=x_train.shape[1:])\n",
    "model.summary()"
   ]
  },
  {
   "cell_type": "code",
   "execution_count": 7,
   "metadata": {},
   "outputs": [],
   "source": [
    "## 超參數設定\n",
    "LEARNING_RATE = 0.001\n",
    "EPOCHS = 50\n",
    "BATCH_SIZE = 256"
   ]
  },
  {
   "cell_type": "code",
   "execution_count": 8,
   "metadata": {},
   "outputs": [
    {
     "name": "stderr",
     "output_type": "stream",
     "text": [
      "W0716 19:19:21.650823  2440 deprecation_wrapper.py:119] From c:\\users\\user\\anaconda3\\lib\\site-packages\\keras\\optimizers.py:790: The name tf.train.Optimizer is deprecated. Please use tf.compat.v1.train.Optimizer instead.\n",
      "\n",
      "W0716 19:19:21.667837  2440 deprecation_wrapper.py:119] From c:\\users\\user\\anaconda3\\lib\\site-packages\\keras\\backend\\tensorflow_backend.py:3295: The name tf.log is deprecated. Please use tf.math.log instead.\n",
      "\n"
     ]
    }
   ],
   "source": [
    "optimizer = keras.optimizers.Adam(lr=LEARNING_RATE)\n",
    "model.compile(loss=\"categorical_crossentropy\", metrics=[\"accuracy\"], optimizer=optimizer)"
   ]
  },
  {
   "cell_type": "code",
   "execution_count": 9,
   "metadata": {},
   "outputs": [
    {
     "name": "stderr",
     "output_type": "stream",
     "text": [
      "W0716 19:19:22.722244  2440 deprecation.py:323] From c:\\users\\user\\anaconda3\\lib\\site-packages\\tensorflow\\python\\ops\\math_grad.py:1250: add_dispatch_support.<locals>.wrapper (from tensorflow.python.ops.array_ops) is deprecated and will be removed in a future version.\n",
      "Instructions for updating:\n",
      "Use tf.where in 2.0, which has the same broadcast rule as np.where\n",
      "W0716 19:19:22.811306  2440 deprecation_wrapper.py:119] From c:\\users\\user\\anaconda3\\lib\\site-packages\\keras\\backend\\tensorflow_backend.py:986: The name tf.assign_add is deprecated. Please use tf.compat.v1.assign_add instead.\n",
      "\n"
     ]
    },
    {
     "name": "stdout",
     "output_type": "stream",
     "text": [
      "Train on 50000 samples, validate on 10000 samples\n",
      "Epoch 1/50\n",
      "50000/50000 [==============================] - 15s 301us/step - loss: 2.0315 - acc: 0.2521 - val_loss: 1.8221 - val_acc: 0.3384\n",
      "Epoch 2/50\n",
      "50000/50000 [==============================] - 9s 183us/step - loss: 1.7772 - acc: 0.3606 - val_loss: 1.6815 - val_acc: 0.3924\n",
      "Epoch 3/50\n",
      "50000/50000 [==============================] - 9s 183us/step - loss: 1.6706 - acc: 0.3996 - val_loss: 1.6809 - val_acc: 0.3998\n",
      "Epoch 4/50\n",
      "50000/50000 [==============================] - 9s 183us/step - loss: 1.6026 - acc: 0.4270 - val_loss: 1.5783 - val_acc: 0.4365\n",
      "Epoch 5/50\n",
      "50000/50000 [==============================] - 9s 190us/step - loss: 1.5383 - acc: 0.4489 - val_loss: 1.5252 - val_acc: 0.4543\n",
      "Epoch 6/50\n",
      "50000/50000 [==============================] - 9s 187us/step - loss: 1.4993 - acc: 0.4642 - val_loss: 1.5550 - val_acc: 0.4461\n",
      "Epoch 7/50\n",
      "50000/50000 [==============================] - 10s 198us/step - loss: 1.4710 - acc: 0.4752 - val_loss: 1.4904 - val_acc: 0.4684\n",
      "Epoch 8/50\n",
      "50000/50000 [==============================] - 10s 198us/step - loss: 1.4348 - acc: 0.4883 - val_loss: 1.5056 - val_acc: 0.4621\n",
      "Epoch 9/50\n",
      "50000/50000 [==============================] - 9s 188us/step - loss: 1.3958 - acc: 0.5011 - val_loss: 1.4325 - val_acc: 0.4917\n",
      "Epoch 10/50\n",
      "50000/50000 [==============================] - 9s 188us/step - loss: 1.3765 - acc: 0.5086 - val_loss: 1.4783 - val_acc: 0.4713\n",
      "Epoch 11/50\n",
      "50000/50000 [==============================] - 9s 186us/step - loss: 1.3506 - acc: 0.5162 - val_loss: 1.4688 - val_acc: 0.4771\n",
      "Epoch 12/50\n",
      "50000/50000 [==============================] - 9s 186us/step - loss: 1.3301 - acc: 0.5253 - val_loss: 1.4135 - val_acc: 0.5039\n",
      "Epoch 13/50\n",
      "50000/50000 [==============================] - 9s 187us/step - loss: 1.3163 - acc: 0.5296 - val_loss: 1.4124 - val_acc: 0.4992\n",
      "Epoch 14/50\n",
      "50000/50000 [==============================] - 9s 190us/step - loss: 1.2864 - acc: 0.5422 - val_loss: 1.3974 - val_acc: 0.5036\n",
      "Epoch 15/50\n",
      "50000/50000 [==============================] - 9s 188us/step - loss: 1.2633 - acc: 0.5489 - val_loss: 1.3881 - val_acc: 0.5116\n",
      "Epoch 16/50\n",
      "50000/50000 [==============================] - 9s 188us/step - loss: 1.2436 - acc: 0.5553 - val_loss: 1.4012 - val_acc: 0.5049\n",
      "Epoch 17/50\n",
      "50000/50000 [==============================] - 9s 187us/step - loss: 1.2309 - acc: 0.5608 - val_loss: 1.3704 - val_acc: 0.5159\n",
      "Epoch 18/50\n",
      "50000/50000 [==============================] - 9s 188us/step - loss: 1.2088 - acc: 0.5695 - val_loss: 1.4373 - val_acc: 0.4951\n",
      "Epoch 19/50\n",
      "50000/50000 [==============================] - 9s 187us/step - loss: 1.1831 - acc: 0.5751 - val_loss: 1.3751 - val_acc: 0.5201\n",
      "Epoch 20/50\n",
      "50000/50000 [==============================] - 9s 186us/step - loss: 1.1563 - acc: 0.5842 - val_loss: 1.3935 - val_acc: 0.5093\n",
      "Epoch 21/50\n",
      "50000/50000 [==============================] - 9s 186us/step - loss: 1.1377 - acc: 0.5918 - val_loss: 1.3617 - val_acc: 0.5199\n",
      "Epoch 22/50\n",
      "50000/50000 [==============================] - 9s 185us/step - loss: 1.1259 - acc: 0.5961 - val_loss: 1.3869 - val_acc: 0.5167\n",
      "Epoch 23/50\n",
      "50000/50000 [==============================] - 9s 188us/step - loss: 1.1100 - acc: 0.6028 - val_loss: 1.4088 - val_acc: 0.5077\n",
      "Epoch 24/50\n",
      "50000/50000 [==============================] - 9s 183us/step - loss: 1.0914 - acc: 0.6110 - val_loss: 1.3825 - val_acc: 0.5232\n",
      "Epoch 25/50\n",
      "50000/50000 [==============================] - 9s 183us/step - loss: 1.0721 - acc: 0.6152 - val_loss: 1.3807 - val_acc: 0.5207\n",
      "Epoch 26/50\n",
      "50000/50000 [==============================] - 9s 183us/step - loss: 1.0545 - acc: 0.6210 - val_loss: 1.3778 - val_acc: 0.5310\n",
      "Epoch 27/50\n",
      "50000/50000 [==============================] - 9s 183us/step - loss: 1.0316 - acc: 0.6301 - val_loss: 1.3979 - val_acc: 0.5264\n",
      "Epoch 28/50\n",
      "50000/50000 [==============================] - 9s 183us/step - loss: 1.0063 - acc: 0.6392 - val_loss: 1.4238 - val_acc: 0.5201\n",
      "Epoch 29/50\n",
      "50000/50000 [==============================] - 10s 193us/step - loss: 0.9940 - acc: 0.6441 - val_loss: 1.4164 - val_acc: 0.5269\n",
      "Epoch 30/50\n",
      "50000/50000 [==============================] - 9s 186us/step - loss: 0.9755 - acc: 0.6479 - val_loss: 1.4074 - val_acc: 0.5317\n",
      "Epoch 31/50\n",
      "50000/50000 [==============================] - 9s 186us/step - loss: 0.9622 - acc: 0.6525 - val_loss: 1.4625 - val_acc: 0.5279\n",
      "Epoch 32/50\n",
      "50000/50000 [==============================] - 9s 186us/step - loss: 0.9435 - acc: 0.6611 - val_loss: 1.4186 - val_acc: 0.5278\n",
      "Epoch 33/50\n",
      "50000/50000 [==============================] - 9s 183us/step - loss: 0.9210 - acc: 0.6688 - val_loss: 1.4716 - val_acc: 0.5207\n",
      "Epoch 34/50\n",
      "50000/50000 [==============================] - 9s 182us/step - loss: 0.9127 - acc: 0.6717 - val_loss: 1.4628 - val_acc: 0.5232\n",
      "Epoch 35/50\n",
      "50000/50000 [==============================] - 9s 183us/step - loss: 0.8875 - acc: 0.6794 - val_loss: 1.4607 - val_acc: 0.5259\n",
      "Epoch 36/50\n",
      "50000/50000 [==============================] - 9s 183us/step - loss: 0.8686 - acc: 0.6886 - val_loss: 1.4976 - val_acc: 0.5275\n",
      "Epoch 37/50\n",
      "50000/50000 [==============================] - 9s 182us/step - loss: 0.8651 - acc: 0.6908 - val_loss: 1.5440 - val_acc: 0.5110\n",
      "Epoch 38/50\n",
      "50000/50000 [==============================] - 9s 182us/step - loss: 0.8436 - acc: 0.6956 - val_loss: 1.5064 - val_acc: 0.5293\n",
      "Epoch 39/50\n",
      "50000/50000 [==============================] - 9s 190us/step - loss: 0.8304 - acc: 0.7001 - val_loss: 1.5226 - val_acc: 0.5190\n",
      "Epoch 40/50\n",
      "50000/50000 [==============================] - 10s 191us/step - loss: 0.8197 - acc: 0.7060 - val_loss: 1.6169 - val_acc: 0.5147\n",
      "Epoch 41/50\n",
      "50000/50000 [==============================] - 10s 192us/step - loss: 0.8021 - acc: 0.7112 - val_loss: 1.6135 - val_acc: 0.5155\n",
      "Epoch 42/50\n",
      "50000/50000 [==============================] - 10s 190us/step - loss: 0.7848 - acc: 0.7186 - val_loss: 1.5870 - val_acc: 0.5231\n",
      "Epoch 43/50\n",
      "50000/50000 [==============================] - 9s 186us/step - loss: 0.7720 - acc: 0.7233 - val_loss: 1.6115 - val_acc: 0.5111\n",
      "Epoch 44/50\n",
      "50000/50000 [==============================] - 9s 187us/step - loss: 0.7480 - acc: 0.7296 - val_loss: 1.6397 - val_acc: 0.5236\n",
      "Epoch 45/50\n",
      "50000/50000 [==============================] - 9s 183us/step - loss: 0.7366 - acc: 0.7346 - val_loss: 1.6095 - val_acc: 0.5258\n",
      "Epoch 46/50\n",
      "50000/50000 [==============================] - 9s 180us/step - loss: 0.7394 - acc: 0.7363 - val_loss: 1.6892 - val_acc: 0.5150\n",
      "Epoch 47/50\n",
      "50000/50000 [==============================] - 9s 180us/step - loss: 0.7116 - acc: 0.7457 - val_loss: 1.6724 - val_acc: 0.5231\n",
      "Epoch 48/50\n",
      "50000/50000 [==============================] - 9s 178us/step - loss: 0.7049 - acc: 0.7472 - val_loss: 1.7468 - val_acc: 0.5067\n",
      "Epoch 49/50\n",
      "50000/50000 [==============================] - 9s 179us/step - loss: 0.6947 - acc: 0.7512 - val_loss: 1.7238 - val_acc: 0.5187\n",
      "Epoch 50/50\n",
      "50000/50000 [==============================] - 10s 205us/step - loss: 0.6766 - acc: 0.7564 - val_loss: 1.7845 - val_acc: 0.5102\n"
     ]
    },
    {
     "data": {
      "text/plain": [
       "<keras.callbacks.History at 0x6ba46b0ba8>"
      ]
     },
     "execution_count": 9,
     "metadata": {},
     "output_type": "execute_result"
    }
   ],
   "source": [
    "model.fit(x_train, y_train, \n",
    "          epochs=EPOCHS, \n",
    "          batch_size=BATCH_SIZE, \n",
    "          validation_data=(x_test, y_test), \n",
    "          shuffle=True)"
   ]
  },
  {
   "cell_type": "code",
   "execution_count": 11,
   "metadata": {},
   "outputs": [
    {
     "data": {
      "image/png": "[encoded data removed]",
      "text/plain": [
       "<matplotlib.figure.Figure at 0x6bcec319b0>"
      ]
     },
     "metadata": {
      "needs_background": "light"
     },
     "output_type": "display_data"
    },
    {
     "data": {
      "image/png": "[encoded data removed]",
      "text/plain": [
       "<matplotlib.figure.Figure at 0x6bcecb5710>"
      ]
     },
     "metadata": {
      "needs_background": "light"
     },
     "output_type": "display_data"
    }
   ],
   "source": [
    "import matplotlib.pyplot as plt\n",
    "\n",
    "\n",
    "train_loss = model.history.history[\"loss\"]\n",
    "valid_loss = model.history.history[\"val_loss\"]\n",
    "\n",
    "train_acc = model.history.history[\"acc\"]\n",
    "valid_acc = model.history.history[\"val_acc\"]\n",
    "\n",
    "plt.plot(range(len(train_loss)), train_loss, label=\"train loss\")\n",
    "plt.plot(range(len(valid_loss)), valid_loss, label=\"valid loss\")\n",
    "plt.legend()\n",
    "plt.title(\"Loss\")\n",
    "plt.show()\n",
    "\n",
    "plt.plot(range(len(train_acc)), train_acc, label=\"train accuracy\")\n",
    "plt.plot(range(len(valid_acc)), valid_acc, label=\"valid accuracy\")\n",
    "plt.legend()\n",
    "plt.title(\"Accuracy\")\n",
    "plt.show()"
   ]
  }
 ],
 "metadata": {
  "kernelspec": {
   "display_name": "Python 3",
   "language": "python",
   "name": "python3"
  },
  "language_info": {
   "codemirror_mode": {
    "name": "ipython",
    "version": 3
   },
   "file_extension": ".py",
   "mimetype": "text/x-python",
   "name": "python",
   "nbconvert_exporter": "python",
   "pygments_lexer": "ipython3",
   "version": "3.6.4"
  }
 },
 "nbformat": 4,
 "nbformat_minor": 2
}
