{
 "cells": [
  {
   "cell_type": "markdown",
   "metadata": {},
   "source": [
    "## Work\n",
    "1. 請嘗試寫一個 callback 用來記錄各類別在訓練過程中，對驗證集的 True Positive 與 True Negative"
   ]
  },
  {
   "cell_type": "code",
   "execution_count": 1,
   "metadata": {},
   "outputs": [
    {
     "name": "stderr",
     "output_type": "stream",
     "text": [
      "Using TensorFlow backend.\n"
     ]
    }
   ],
   "source": [
    "import os\n",
    "import keras\n",
    "\n",
    "# Disable GPU\n",
    "os.environ[\"CUDA_VISIBLE_DEVICES\"] = \"\""
   ]
  },
  {
   "cell_type": "code",
   "execution_count": 2,
   "metadata": {},
   "outputs": [],
   "source": [
    "train, test = keras.datasets.cifar10.load_data()"
   ]
  },
  {
   "cell_type": "code",
   "execution_count": 3,
   "metadata": {},
   "outputs": [],
   "source": [
    "## 資料前處理\n",
    "def preproc_x(x, flatten=True):\n",
    "    x = x / 255.\n",
    "    if flatten:\n",
    "        x = x.reshape((len(x), -1))\n",
    "    return x\n",
    "\n",
    "def preproc_y(y, num_classes=10):\n",
    "    if y.shape[-1] == 1:\n",
    "        y = keras.utils.to_categorical(y, num_classes)\n",
    "    return y    "
   ]
  },
  {
   "cell_type": "code",
   "execution_count": 4,
   "metadata": {},
   "outputs": [],
   "source": [
    "x_train, y_train = train\n",
    "x_test, y_test = test\n",
    "\n",
    "# Preproc the inputs\n",
    "x_train = preproc_x(x_train)\n",
    "x_test = preproc_x(x_test)\n",
    "\n",
    "# Preprc the outputs\n",
    "y_train = preproc_y(y_train)\n",
    "y_test = preproc_y(y_test)"
   ]
  },
  {
   "cell_type": "code",
   "execution_count": 5,
   "metadata": {},
   "outputs": [],
   "source": [
    "from keras.layers import BatchNormalization\n",
    "def build_mlp(input_shape, output_units=10, num_neurons=[256, 256, 256]):\n",
    "    \"\"\"Code Here\n",
    "    建立你的神經網路\n",
    "    \"\"\"\n",
    "    input_layer = keras.layers.Input(input_shape)\n",
    "    \n",
    "    for i, n_units in enumerate(num_neurons):\n",
    "        if i == 0:\n",
    "            x = keras.layers.Dense(units=n_units, \n",
    "                                   activation=\"relu\", \n",
    "                                   name=\"hidden_layer\"+str(i+1))(input_layer)\n",
    "            x = BatchNormalization()(x)\n",
    "        else:\n",
    "            x = keras.layers.Dense(units=n_units, \n",
    "                                   activation=\"relu\", \n",
    "                                   name=\"hidden_layer\"+str(i+1))(x)\n",
    "            x = BatchNormalization()(x)\n",
    "    \n",
    "    out = keras.layers.Dense(units=output_units, activation=\"softmax\", name=\"output\")(x)\n",
    "    \n",
    "    model = keras.models.Model(inputs=[input_layer], outputs=[out])\n",
    "    return model"
   ]
  },
  {
   "cell_type": "code",
   "execution_count": 6,
   "metadata": {},
   "outputs": [],
   "source": [
    "## 超參數設定\n",
    "LEARNING_RATE = 1e-3\n",
    "EPOCHS = 25\n",
    "BATCH_SIZE = 1024\n",
    "MOMENTUM = 0.95"
   ]
  },
  {
   "cell_type": "code",
   "execution_count": 17,
   "metadata": {},
   "outputs": [],
   "source": [
    "# 載入 Callbacks\n",
    "from keras.callbacks import Callback\n",
    "from sklearn.metrics import confusion_matrix\n",
    "\n",
    "# Record_fp_tp\n",
    "class Record_tp_tn(Callback):\n",
    "    \"\"\"Code Here\n",
    "    撰寫一個紀錄 ture positive 與 true negative 數量的 callbacks    \n",
    "    \"\"\"\n",
    "    def on_train_begin(self, logs={}):\n",
    "        for item in ['val_tp', 'val_tn']:\n",
    "            if item not in self.params['metrics']:\n",
    "                self.params['metrics'].append(item)\n",
    "        \n",
    "    def on_epoch_end(self, epoch, logs={}, thres=0.5):\n",
    "        y_true = self.validation_data[1].argmax(axis = 1)\n",
    "        y_pred = self.model.predict(self.validation_data[0])\n",
    "        y_pred = (y_pred[:, 1] >= thres) * 1\n",
    "        matrix = confusion_matrix(y_true, y_pred)\n",
    "        logs[\"val_tp\"] = matrix[0][0]\n",
    "        logs[\"val_tn\"] = matrix[1][1]\n",
    "        \n",
    "rec_tptn = Record_tp_tn()"
   ]
  },
  {
   "cell_type": "code",
   "execution_count": 18,
   "metadata": {
    "scrolled": true
   },
   "outputs": [
    {
     "name": "stdout",
     "output_type": "stream",
     "text": [
      "_________________________________________________________________\n",
      "Layer (type)                 Output Shape              Param #   \n",
      "=================================================================\n",
      "input_5 (InputLayer)         (None, 3072)              0         \n",
      "_________________________________________________________________\n",
      "hidden_layer1 (Dense)        (None, 256)               786688    \n",
      "_________________________________________________________________\n",
      "batch_normalization_13 (Batc (None, 256)               1024      \n",
      "_________________________________________________________________\n",
      "hidden_layer2 (Dense)        (None, 256)               65792     \n",
      "_________________________________________________________________\n",
      "batch_normalization_14 (Batc (None, 256)               1024      \n",
      "_________________________________________________________________\n",
      "hidden_layer3 (Dense)        (None, 256)               65792     \n",
      "_________________________________________________________________\n",
      "batch_normalization_15 (Batc (None, 256)               1024      \n",
      "_________________________________________________________________\n",
      "output (Dense)               (None, 10)                2570      \n",
      "=================================================================\n",
      "Total params: 923,914\n",
      "Trainable params: 922,378\n",
      "Non-trainable params: 1,536\n",
      "_________________________________________________________________\n",
      "Train on 50000 samples, validate on 10000 samples\n",
      "Epoch 1/25\n",
      "50000/50000 [==============================] - 9s 178us/step - loss: 2.2430 - acc: 0.2628 - val_loss: 2.2114 - val_acc: 0.2987\n",
      "Epoch 2/25\n",
      "50000/50000 [==============================] - 6s 123us/step - loss: 1.7610 - acc: 0.3861 - val_loss: 1.8322 - val_acc: 0.3751\n",
      "Epoch 3/25\n",
      "50000/50000 [==============================] - 6s 127us/step - loss: 1.6324 - acc: 0.4277 - val_loss: 1.7079 - val_acc: 0.4056\n",
      "Epoch 4/25\n",
      "50000/50000 [==============================] - 6s 125us/step - loss: 1.5580 - acc: 0.4561 - val_loss: 1.6324 - val_acc: 0.4333\n",
      "Epoch 5/25\n",
      "50000/50000 [==============================] - 6s 116us/step - loss: 1.5017 - acc: 0.4751 - val_loss: 1.5907 - val_acc: 0.4422\n",
      "Epoch 6/25\n",
      "50000/50000 [==============================] - 6s 117us/step - loss: 1.4582 - acc: 0.4913 - val_loss: 1.5639 - val_acc: 0.4509\n",
      "Epoch 7/25\n",
      "50000/50000 [==============================] - 6s 116us/step - loss: 1.4221 - acc: 0.5051 - val_loss: 1.5432 - val_acc: 0.4505\n",
      "Epoch 8/25\n",
      "50000/50000 [==============================] - 6s 115us/step - loss: 1.3895 - acc: 0.5165 - val_loss: 1.5274 - val_acc: 0.4649\n",
      "Epoch 9/25\n",
      "50000/50000 [==============================] - 6s 117us/step - loss: 1.3607 - acc: 0.5271 - val_loss: 1.5112 - val_acc: 0.4678\n",
      "Epoch 10/25\n",
      "50000/50000 [==============================] - 6s 115us/step - loss: 1.3319 - acc: 0.5384 - val_loss: 1.5207 - val_acc: 0.4727\n",
      "Epoch 11/25\n",
      "50000/50000 [==============================] - 6s 116us/step - loss: 1.3073 - acc: 0.5472 - val_loss: 1.5089 - val_acc: 0.4729\n",
      "Epoch 12/25\n",
      "50000/50000 [==============================] - 6s 118us/step - loss: 1.2838 - acc: 0.5565 - val_loss: 1.4884 - val_acc: 0.4778\n",
      "Epoch 13/25\n",
      "50000/50000 [==============================] - 6s 126us/step - loss: 1.2614 - acc: 0.5624 - val_loss: 1.4854 - val_acc: 0.4805\n",
      "Epoch 14/25\n",
      "50000/50000 [==============================] - 6s 130us/step - loss: 1.2388 - acc: 0.5712 - val_loss: 1.4695 - val_acc: 0.4863\n",
      "Epoch 15/25\n",
      "50000/50000 [==============================] - 6s 118us/step - loss: 1.2179 - acc: 0.5801 - val_loss: 1.4663 - val_acc: 0.4885\n",
      "Epoch 16/25\n",
      "50000/50000 [==============================] - 6s 119us/step - loss: 1.1990 - acc: 0.5865 - val_loss: 1.4583 - val_acc: 0.4901\n",
      "Epoch 17/25\n",
      "50000/50000 [==============================] - 6s 124us/step - loss: 1.1774 - acc: 0.5929 - val_loss: 1.4519 - val_acc: 0.4933\n",
      "Epoch 18/25\n",
      "50000/50000 [==============================] - 6s 126us/step - loss: 1.1586 - acc: 0.6013 - val_loss: 1.4462 - val_acc: 0.4934\n",
      "Epoch 19/25\n",
      "50000/50000 [==============================] - 6s 125us/step - loss: 1.1413 - acc: 0.6088 - val_loss: 1.4440 - val_acc: 0.4987\n",
      "Epoch 20/25\n",
      "50000/50000 [==============================] - 6s 121us/step - loss: 1.1229 - acc: 0.6150 - val_loss: 1.4465 - val_acc: 0.4997\n",
      "Epoch 21/25\n",
      "50000/50000 [==============================] - 6s 120us/step - loss: 1.1063 - acc: 0.6209 - val_loss: 1.4463 - val_acc: 0.5021\n",
      "Epoch 22/25\n",
      "50000/50000 [==============================] - 6s 125us/step - loss: 1.0881 - acc: 0.6289 - val_loss: 1.4443 - val_acc: 0.4984\n",
      "Epoch 23/25\n",
      "50000/50000 [==============================] - 6s 127us/step - loss: 1.0701 - acc: 0.6340 - val_loss: 1.4418 - val_acc: 0.4996\n",
      "Epoch 24/25\n",
      "50000/50000 [==============================] - 6s 127us/step - loss: 1.0537 - acc: 0.6416 - val_loss: 1.4528 - val_acc: 0.4999\n",
      "Epoch 25/25\n",
      "50000/50000 [==============================] - 6s 121us/step - loss: 1.0380 - acc: 0.6469 - val_loss: 1.4385 - val_acc: 0.5031\n"
     ]
    }
   ],
   "source": [
    "model = build_mlp(input_shape=x_train.shape[1:])\n",
    "model.summary()\n",
    "optimizer = keras.optimizers.SGD(lr=LEARNING_RATE, nesterov=True, momentum=MOMENTUM)\n",
    "model.compile(loss=\"categorical_crossentropy\", metrics=[\"accuracy\"], optimizer=optimizer)\n",
    "\n",
    "\"\"\"Code Here\n",
    "將 callbacks 放入模型訓練流程中\n",
    "\"\"\"\n",
    "model.fit(x_train, y_train, \n",
    "          epochs=EPOCHS, \n",
    "          batch_size=BATCH_SIZE, \n",
    "          validation_data=(x_test, y_test), \n",
    "          shuffle=True,\n",
    "          callbacks=[rec_tptn]\n",
    "         )\n",
    "\n",
    "# Collect results\n",
    "train_loss = model.history.history[\"loss\"]\n",
    "valid_loss = model.history.history[\"val_loss\"]\n",
    "train_acc = model.history.history[\"acc\"]\n",
    "valid_acc = model.history.history[\"val_acc\"]\n",
    "\n",
    "\"\"\"Code Here\n",
    "將 tp/tn 從訓練完的模型中取出\n",
    "\"\"\"\n",
    "valid_tp = model.history.history['val_tp']\n",
    "valid_tn = model.history.history['val_tn']"
   ]
  },
  {
   "cell_type": "code",
   "execution_count": 19,
   "metadata": {},
   "outputs": [
    {
     "data": {
      "image/png": "[encoded data removed]",
      "text/plain": [
       "<matplotlib.figure.Figure at 0x243d5ed588>"
      ]
     },
     "metadata": {
      "needs_background": "light"
     },
     "output_type": "display_data"
    },
    {
     "data": {
      "image/png": "[encoded data removed]",
      "text/plain": [
       "<matplotlib.figure.Figure at 0x2467c152b0>"
      ]
     },
     "metadata": {
      "needs_background": "light"
     },
     "output_type": "display_data"
    },
    {
     "data": {
      "image/png": "[encoded data removed]",
      "text/plain": [
       "<matplotlib.figure.Figure at 0x244a6dd6a0>"
      ]
     },
     "metadata": {
      "needs_background": "light"
     },
     "output_type": "display_data"
    }
   ],
   "source": [
    "import matplotlib.pyplot as plt\n",
    "%matplotlib inline\n",
    "\n",
    "plt.plot(range(len(train_loss)), train_loss, label=\"train loss\")\n",
    "plt.plot(range(len(valid_loss)), valid_loss, label=\"valid loss\")\n",
    "plt.legend()\n",
    "plt.title(\"Loss\")\n",
    "plt.show()\n",
    "\n",
    "plt.plot(range(len(train_acc)), train_acc, label=\"train accuracy\")\n",
    "plt.plot(range(len(valid_acc)), valid_acc, label=\"valid accuracy\")\n",
    "plt.legend()\n",
    "plt.title(\"Accuracy\")\n",
    "plt.show()\n",
    "\n",
    "plt.plot(range(len(valid_tp)), valid_tp, label=\"valid tp\", color=\"navy\")\n",
    "plt.plot(range(len(valid_tn)), valid_tn, label=\"valid tn\", color=\"red\")\n",
    "plt.legend()\n",
    "plt.title(\"True positives and True Negatives\")\n",
    "plt.show()\n"
   ]
  }
 ],
 "metadata": {
  "kernelspec": {
   "display_name": "Python 3",
   "language": "python",
   "name": "python3"
  },
  "language_info": {
   "codemirror_mode": {
    "name": "ipython",
    "version": 3
   },
   "file_extension": ".py",
   "mimetype": "text/x-python",
   "name": "python",
   "nbconvert_exporter": "python",
   "pygments_lexer": "ipython3",
   "version": "3.6.4"
  }
 },
 "nbformat": 4,
 "nbformat_minor": 2
}
