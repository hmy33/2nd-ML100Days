{
 "cells": [
  {
   "cell_type": "markdown",
   "metadata": {},
   "source": [
    "# 作業目標:\n",
    "    了解 Padding 的作法\n",
    "    \n",
    "    了解 Pooling 的作法"
   ]
  },
  {
   "cell_type": "markdown",
   "metadata": {},
   "source": [
    "# 作業重點:\n",
    "    (1) 調整Padding 的設定, 看 Pad 後的結果\n",
    "    \n",
    "    (2) 調整Pooling 的設定, 看 Poolin 後的結果"
   ]
  },
  {
   "cell_type": "code",
   "execution_count": 1,
   "metadata": {},
   "outputs": [],
   "source": [
    "import numpy as np\n",
    "import h5py\n",
    "import matplotlib.pyplot as plt\n",
    "\n",
    "# 繪圖結果直接顯示在Jupyter cell 之內\n",
    "%matplotlib inline  \n",
    "plt.rcParams['figure.figsize'] = (5.0, 4.0) #  設定繪圖板的大小\n",
    "plt.rcParams['image.interpolation'] = 'nearest'\n",
    "plt.rcParams['image.cmap'] = 'gray'\n",
    "\n",
    "# autoreload。可以讓我們不退出IPython就動態修改代碼，在執行代碼前IPython會幫我們自動重載改動的模塊\n",
    "%load_ext autoreload\n",
    "%autoreload 2\n",
    "np.random.seed(1)"
   ]
  },
  {
   "cell_type": "code",
   "execution_count": 2,
   "metadata": {},
   "outputs": [],
   "source": [
    "# GRADED FUNCTION: zero_pad\n",
    "def zero_pad(X, pad):\n",
    "    \"\"\"\n",
    "    對image X 做 zero-padding. \n",
    "    參數定義如下:\n",
    "    X -- python numpy array, 呈現維度 (m, n_H, n_W, n_C), 代表一批 m 個圖像\n",
    "         n_H: 圖高, n_W: 圖寬, n_C: color channels 數\n",
    "    pad -- 整數, 加幾圈的 zero padding.\n",
    "    Returns:\n",
    "    X_pad -- image of shape (m, n_H + 2*pad, n_W + 2*pad, n_C) 做完zero-padding 的結果\n",
    "    \"\"\"\n",
    "    \n",
    "    X_pad = np.pad(X, ((0, 0), (pad, pad), (pad, pad), (0, 0)), 'constant', constant_values=(0, 0))\n",
    "  \n",
    "    return X_pad"
   ]
  },
  {
   "cell_type": "code",
   "execution_count": 4,
   "metadata": {},
   "outputs": [
    {
     "name": "stdout",
     "output_type": "stream",
     "text": [
      "x.shape = (2, 5, 5, 1)\n",
      "x_pad.shape = (2, 7, 7, 1)\n",
      "x[1,1] = [[-0.69166075]\n",
      " [-0.39675353]\n",
      " [-0.6871727 ]\n",
      " [-0.84520564]\n",
      " [-0.67124613]]\n",
      "x_pad[1,1] = [[ 0.        ]\n",
      " [-0.68372786]\n",
      " [-0.12289023]\n",
      " [-0.93576943]\n",
      " [-0.26788808]\n",
      " [ 0.53035547]\n",
      " [ 0.        ]]\n"
     ]
    },
    {
     "data": {
      "text/plain": [
       "<matplotlib.image.AxesImage at 0xfe750e1400>"
      ]
     },
     "execution_count": 4,
     "metadata": {},
     "output_type": "execute_result"
    },
    {
     "data": {
      "image/png": "[encoded data removed]",
      "text/plain": [
       "<matplotlib.figure.Figure at 0xfe73051c18>"
      ]
     },
     "metadata": {
      "needs_background": "light"
     },
     "output_type": "display_data"
    }
   ],
   "source": [
    "'''\n",
    "作業修改\n",
    "'''\n",
    "np.random.seed(1)\n",
    "x = np.random.randn(2, 5, 5, 1)\n",
    "x_pad = zero_pad(x, 1)\n",
    "\n",
    "\n",
    "print (\"x.shape =\", x.shape)\n",
    "print (\"x_pad.shape =\", x_pad.shape)\n",
    "print (\"x[1,1] =\", x[1,1])\n",
    "print (\"x_pad[1,1] =\", x_pad[1,1])\n",
    "fig, axarr = plt.subplots(1, 2)\n",
    "axarr[0].set_title('x')\n",
    "axarr[0].imshow(x[0,:,:,0])\n",
    "axarr[1].set_title('x_pad')\n",
    "axarr[1].imshow(x_pad[0,:,:,0])"
   ]
  },
  {
   "cell_type": "code",
   "execution_count": 5,
   "metadata": {},
   "outputs": [],
   "source": [
    "# GRADED FUNCTION: pool_forward\n",
    "def pool_forward(A_prev, hparameters, mode = \"max\"):\n",
    "    \"\"\"\n",
    "    設計一個前行網路的池化層\n",
    "    參數定義如下:\n",
    "    A_prev -- 輸入的numpy 陣列, 維度 (m, n_H_prev, n_W_prev, n_C_prev)\n",
    "    hparameter 超參數 --  \"f\" and \"stride\" 所形成的python 字典\n",
    "    mode -- 池化的模式: \"max\" or \"average\"\n",
    "    \n",
    "    返回:\n",
    "        A -- 輸出的池化層, 維度為 (m, n_H, n_W, n_C) 的 numpy 陣列\n",
    "        cache -- 可以應用在 backward pass pooling layer 資料, 包含 input and hparameter\n",
    "    \"\"\"\n",
    "\n",
    "    # 檢索尺寸 from the input shape\n",
    "    (m, n_H_prev, n_W_prev, n_C_prev) = A_prev.shape\n",
    " \n",
    "    # 檢索超參數 from \"hparameters\"\n",
    "    f = hparameters[\"f\"]\n",
    "    stride = hparameters[\"stride\"]\n",
    "\n",
    "    # 定義輸出的dimensions\n",
    "    n_H = int(1 + (n_H_prev - f) / stride)\n",
    "    n_W = int(1 + (n_W_prev - f) / stride)\n",
    "    n_C = n_C_prev\n",
    "\n",
    "    # 初始化輸出的 matrix A\n",
    "    A = np.zeros((m, n_H, n_W, n_C))\n",
    "\n",
    "    ### 程式起始位置  ###\n",
    "    for i in range(m): # 訓練樣本的for 迴圈\n",
    "        for h in range(n_H): # 輸出樣本的for 迴圈, 針對vertical axis\n",
    "            for w in range(n_W): #  輸出樣本的for 迴圈, 針對 horizontal axis\n",
    "                for c in range (n_C): #  輸出樣本的for 迴圈, 針對channels\n",
    "\n",
    "                     # 找出特徵圖的寬度跟高度四個點\n",
    "                    vert_start = h * stride\n",
    "                    vert_end = h * stride+ f\n",
    "                    horiz_start = w * stride\n",
    "                    horiz_end = w * stride + f\n",
    "\n",
    "                    # 定義第i個訓練示例\n",
    "                    a_prev_slice = A_prev[i, vert_start:vert_end, horiz_start:horiz_end,c]\n",
    "\n",
    "                    # 計算輸入data 的池化結果. 使用 if statment 去做分類\n",
    "                    if mode == \"max\":\n",
    "                        A[i, h, w, c] = np.max(a_prev_slice)\n",
    "                    elif mode == \"average\":\n",
    "                        A[i, h, w, c] = np.mean(a_prev_slice)\n",
    "\n",
    "                        ### 程式結束  ###\n",
    "    \n",
    "    # 儲存輸入的特徵圖跟所設定的超參數, 可以用在 pool_backward()\n",
    "    cache = (A_prev, hparameters)\n",
    "    \n",
    "    # 確認輸出的資料維度\n",
    "    assert(A.shape == (m, n_H, n_W, n_C))\n",
    "    return A, cache"
   ]
  },
  {
   "cell_type": "code",
   "execution_count": 6,
   "metadata": {},
   "outputs": [
    {
     "name": "stdout",
     "output_type": "stream",
     "text": [
      "mode = max\n",
      "A = [[[[1.74481176 1.46210794 1.65980218]\n",
      "   [1.74481176 1.46210794 1.65980218]\n",
      "   [1.74481176 1.6924546  2.18557541]\n",
      "   [1.19891788 1.6924546  2.18557541]]\n",
      "\n",
      "  [[1.96710175 1.25286816 1.65980218]\n",
      "   [1.96710175 1.25286816 1.65980218]\n",
      "   [1.62765075 1.6924546  2.18557541]\n",
      "   [1.19891788 1.6924546  2.18557541]]\n",
      "\n",
      "  [[2.18697965 1.25286816 1.27375593]\n",
      "   [2.18697965 1.25286816 1.23616403]\n",
      "   [2.18697965 1.51981682 2.18557541]\n",
      "   [2.18697965 1.51981682 2.18557541]]\n",
      "\n",
      "  [[2.19069973 2.52832571 1.33145711]\n",
      "   [2.18697965 2.52832571 1.33145711]\n",
      "   [2.18697965 0.84616065 1.33145711]\n",
      "   [2.18697965 1.16033857 1.12948391]]]\n",
      "\n",
      "\n",
      " [[[2.44936865 1.93752881 1.95487808]\n",
      "   [2.44936865 2.05117344 1.9560789 ]\n",
      "   [2.44936865 2.05117344 1.9560789 ]\n",
      "   [2.44936865 2.05117344 1.9560789 ]]\n",
      "\n",
      "  [[2.44936865 1.93752881 3.03085711]\n",
      "   [2.44936865 2.05117344 1.81053491]\n",
      "   [2.44936865 2.05117344 1.81053491]\n",
      "   [2.44936865 2.05117344 1.79215821]]\n",
      "\n",
      "  [[2.06578332 1.93752881 3.03085711]\n",
      "   [2.06578332 2.05117344 1.81053491]\n",
      "   [2.06578332 2.05117344 1.81053491]\n",
      "   [2.06578332 2.05117344 1.62284909]]\n",
      "\n",
      "  [[2.06578332 1.54335911 3.03085711]\n",
      "   [2.06578332 2.13782807 1.83471763]\n",
      "   [2.06578332 2.13782807 1.83471763]\n",
      "   [2.06578332 2.13782807 1.83471763]]]]\n",
      "\n",
      "mode = average\n",
      "A = [[[[-8.81065648e-02  1.19433021e-01 -8.15313041e-02]\n",
      "   [-1.85096982e-01  1.53463088e-01 -1.18164647e-01]\n",
      "   [ 4.13552496e-02  3.12114723e-01 -8.65715619e-02]\n",
      "   [-1.43489318e-01  3.28476803e-01  5.06650140e-02]]\n",
      "\n",
      "  [[-2.89456927e-02  1.95925212e-02  1.15931927e-01]\n",
      "   [-4.09231953e-02  8.78789788e-02 -3.43784178e-03]\n",
      "   [ 9.43121126e-02  3.34016276e-01 -7.67908895e-02]\n",
      "   [-1.35704798e-01  3.05101430e-01  1.31094664e-01]]\n",
      "\n",
      "  [[ 1.94148465e-01  2.13072476e-02  1.29892775e-01]\n",
      "   [ 1.22464072e-01  4.37261862e-02 -1.88136277e-03]\n",
      "   [ 2.35371690e-01  1.90284348e-01 -6.35461053e-02]\n",
      "   [ 8.58471991e-03  2.74709659e-01 -1.69293709e-04]]\n",
      "\n",
      "  [[ 2.67759264e-01  1.32874283e-02  6.71490496e-02]\n",
      "   [ 1.76905989e-01  1.12290321e-01 -4.84132219e-02]\n",
      "   [ 2.16909406e-01  6.08515382e-02 -1.90302695e-01]\n",
      "   [ 3.29552519e-02  2.81972442e-01 -1.11666489e-01]]]\n",
      "\n",
      "\n",
      " [[[ 6.13865300e-02  8.72129531e-02  1.13196976e-01]\n",
      "   [-2.90708278e-02  4.25718302e-02  2.47451847e-01]\n",
      "   [ 8.21553344e-02 -1.60741243e-01  2.68934103e-01]\n",
      "   [-1.94101929e-01 -2.78051381e-01  2.86648712e-01]]\n",
      "\n",
      "  [[ 9.06406830e-02  8.43905757e-02  1.26362687e-01]\n",
      "   [ 1.04148164e-01  1.45892429e-01  1.33713625e-01]\n",
      "   [ 1.47880041e-01  3.90890854e-02  8.95985965e-02]\n",
      "   [-4.77260725e-02  1.05798684e-01  3.69621390e-02]]\n",
      "\n",
      "  [[-2.36724150e-01 -7.22938042e-02  7.69096753e-02]\n",
      "   [-8.80666229e-02  1.52702439e-02  2.01349248e-01]\n",
      "   [ 2.21606804e-02  1.74463592e-02  1.79746011e-01]\n",
      "   [-7.43827007e-02  1.24609282e-01  2.28203223e-02]]\n",
      "\n",
      "  [[ 3.77852702e-02 -1.70215303e-01  1.56300682e-03]\n",
      "   [ 2.53172933e-01 -1.29191219e-01  1.48812017e-01]\n",
      "   [ 2.06017574e-01 -9.91387605e-02  1.54943954e-01]\n",
      "   [ 1.76054430e-01  8.24589050e-03  4.41155229e-02]]]]\n"
     ]
    }
   ],
   "source": [
    "'''\n",
    "作業修改\n",
    "'''\n",
    "np.random.seed(1)\n",
    "A_prev = np.random.randn(2, 8, 8, 3)\n",
    "hparameters = {'stride': 1, 'f':5}\n",
    "\n",
    "\n",
    "A, cache = pool_forward(A_prev, hparameters)\n",
    "print(\"mode = max\")\n",
    "print(\"A =\", A)\n",
    "print()\n",
    "A, cache = pool_forward(A_prev, hparameters, mode = \"average\")\n",
    "print(\"mode = average\")\n",
    "print(\"A =\", A)"
   ]
  },
  {
   "cell_type": "code",
   "execution_count": null,
   "metadata": {},
   "outputs": [],
   "source": []
  }
 ],
 "metadata": {
  "kernelspec": {
   "display_name": "Python 3",
   "language": "python",
   "name": "python3"
  },
  "language_info": {
   "codemirror_mode": {
    "name": "ipython",
    "version": 3
   },
   "file_extension": ".py",
   "mimetype": "text/x-python",
   "name": "python",
   "nbconvert_exporter": "python",
   "pygments_lexer": "ipython3",
   "version": "3.6.4"
  }
 },
 "nbformat": 4,
 "nbformat_minor": 2
}
